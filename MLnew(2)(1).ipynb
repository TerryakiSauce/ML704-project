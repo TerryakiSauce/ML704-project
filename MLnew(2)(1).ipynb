{
  "cells": [
    {
      "cell_type": "code",
      "execution_count": 159,
      "metadata": {
        "id": "uhCflDJLHnSB"
      },
      "outputs": [],
      "source": [
        "import pandas as pd\n",
        "import numpy as np\n",
        "import re\n",
        "from urllib.parse import urlparse\n",
        "from tqdm import tqdm\n",
        "from sklearn.linear_model import LogisticRegression\n",
        "from sklearn.model_selection import train_test_split\n",
        "from sklearn.metrics import accuracy_score\n",
        "from sklearn.preprocessing import normalize\n",
        "from unicodedata import digit\n",
        "from sklearn.preprocessing import StandardScaler\n"
      ]
    },
    {
      "cell_type": "code",
      "execution_count": 160,
      "metadata": {
        "colab": {
          "base_uri": "https://localhost:8080/",
          "height": 206
        },
        "id": "ulnrBf0QIfFm",
        "outputId": "c27cc9a7-1bfd-4b1e-ce4c-c7f67e8958c5"
      },
      "outputs": [],
      "source": [
        "df1 = pd.read_csv(\"malicious_phish.csv\")  #malicious_phish.csv #balanced_urls.csv\n",
        "replacements = {'benign':0,\"phishing\":1,\"defacement\":1,\"malware\":1}\n",
        "df1['type'] = df1['type'].replace(replacements)\n",
        "df1.rename(columns={'type': 'labels'}, inplace=True)\n",
        "\n",
        "\n",
        "df2 = pd.read_csv(\"balanced_urls.csv\")\n",
        "df2.drop('label', axis=1, inplace=True)\n",
        "df2.rename(columns={'result': 'labels'}, inplace=True)"
      ]
    },
    {
      "cell_type": "code",
      "execution_count": 161,
      "metadata": {
        "id": "CMO8I9PCIre2"
      },
      "outputs": [],
      "source": [
        "def lenght_url(url):\n",
        "  return len(url)"
      ]
    },
    {
      "cell_type": "code",
      "execution_count": 162,
      "metadata": {
        "id": "-tns4cFZVtDW"
      },
      "outputs": [],
      "source": [
        "def length_host(url):\n",
        "  parsed = urlparse(url)\n",
        "  \n",
        "  if not parsed.netloc:\n",
        "    if \"www\" == parsed.path[0:3]:\n",
        "      stops = parsed.path[4:]\n",
        "      return stops.find(\"/\")\n",
        "    else:\n",
        "      stops = parsed.path.find(\"/\")\n",
        "      return stops\n",
        "  else:\n",
        "    if \"www\" == parsed.netloc[0:3]:\n",
        "      stops = parsed.netloc[4:]\n",
        "      return len(stops)\n",
        "    else:\n",
        "      return len(parsed.netloc)"
      ]
    },
    {
      "cell_type": "code",
      "execution_count": 163,
      "metadata": {
        "id": "idtrbke_V82K"
      },
      "outputs": [],
      "source": [
        "def length_path(url):\n",
        "    parsed = urlparse(url)\n",
        "    if not parsed.netloc:\n",
        "        path = parsed.path.split(\"/\")\n",
        "        path.pop(0)\n",
        "        counter = 0\n",
        "        for i in path:\n",
        "          counter+=len(i)\n",
        "        return counter + len(path)\n",
        "    else:\n",
        "        return len(parsed.path)"
      ]
    },
    {
      "cell_type": "code",
      "execution_count": 164,
      "metadata": {
        "id": "qRiTviY_bxvS"
      },
      "outputs": [],
      "source": [
        "def length_first_dir(url):\n",
        "    parsed = urlparse(url)\n",
        "    if not parsed.netloc:\n",
        "        fist_dir = parsed.path.split(\"/\")\n",
        "        if len(fist_dir) != 1:\n",
        "          return len(fist_dir[1])\n",
        "        else:\n",
        "          return 0\n",
        "    else:\n",
        "        if parsed.path == \"\":\n",
        "          return 0\n",
        "        else:\n",
        "          fist_dir = parsed.path[1:].split(\"/\")\n",
        "          return len(fist_dir[0])"
      ]
    },
    {
      "cell_type": "code",
      "execution_count": 165,
      "metadata": {
        "id": "mLakmZHhfZ9F"
      },
      "outputs": [],
      "source": [
        "def length_top_dom(url):\n",
        "  parsed = urlparse(url)\n",
        "  if not parsed.netloc:\n",
        "    stops = parsed.path.split(\"/\")[0]\n",
        "    return len(stops.split(\".\")[-1])\n",
        "  else:\n",
        "    return len(parsed.netloc.split(\".\")[-1])"
      ]
    },
    {
      "cell_type": "code",
      "execution_count": 166,
      "metadata": {
        "id": "XHKgXUerq-pq"
      },
      "outputs": [],
      "source": [
        "def is_url_shortened(url):\n",
        "    regex = 'bit\\.ly|goo\\.gl|shorte\\.st|go2l\\.ink|x\\.co|ow\\.ly|t\\.co|tinyurl|tr\\.im|is\\.gd|cli\\.gs|' 'yfrog\\.com|migre\\.me|ff\\.im|tiny\\.cc|url4\\.eu|twit\\.ac|su\\.pr|twurl\\.nl|snipurl\\.com|' 'short\\.to|BudURL\\.com|ping\\.fm|post\\.ly|Just\\.as|bkite\\.com|snipr\\.com|fic\\.kr|loopt\\.us|' 'doiop\\.com|short\\.ie|kl\\.am|wp\\.me|rubyurl\\.com|om\\.ly|to\\.ly|bit\\.do|t\\.co|lnkd\\.in|' 'db\\.tt|qr\\.ae|adf\\.ly|goo\\.gl|bitly\\.com|cur\\.lv|tinyurl\\.com|ow\\.ly|bit\\.ly|ity\\.im|' 'q\\.gs|is\\.gd|po\\.st|bc\\.vc|twitthis\\.com|u\\.to|j\\.mp|buzurl\\.com|cutt\\.us|u\\.bb|yourls\\.org|' 'x\\.co|prettylinkpro\\.com|scrnch\\.me|filoops\\.info|vzturl\\.com|qr\\.net|1url\\.com|tweez\\.me|v\\.gd|' 'tr\\.im|link\\.zip\\.net'\n",
        "    short = re.search(regex,url)\n",
        "    if short:\n",
        "      return 1\n",
        "    else:\n",
        "      return 0"
      ]
    },
    {
      "cell_type": "code",
      "execution_count": 167,
      "metadata": {},
      "outputs": [],
      "source": [
        "def has_ip(url):\n",
        "    ips = r'\\b\\d{1,3}\\.\\d{1,3}\\.\\d{1,3}\\.\\d{1,3}\\b'\n",
        "    boolean = re.search(ips, url)\n",
        "    if boolean:\n",
        "        return 1\n",
        "    else:\n",
        "        return 0"
      ]
    },
    {
      "cell_type": "code",
      "execution_count": 168,
      "metadata": {
        "id": "ecJsSs6d8EL2"
      },
      "outputs": [],
      "source": [
        "def count_feat(url):\n",
        "  feat = {\"dash\":0,\"at\":0,\"questions\":0,\"percentage\":0,\"fullstop\":0,\"equal\":0,\"http\":0,\"https\":0,\"www\":0,\"digits\":0,\"letters\":0,\"directories\":0}\n",
        "\n",
        "  for i in url:\n",
        "    if i==\"-\" : feat[\"dash\"] += 1\n",
        "    elif i==\"@\" : feat[\"at\"] += 1\n",
        "    elif i==\"?\" : feat[\"questions\"] += 1\n",
        "    elif i==\"%\" : feat[\"percentage\"] += 1\n",
        "    elif i==\".\" : feat[\"fullstop\"] += 1\n",
        "    elif i==\"=\" : feat[\"equal\"] += 1 \n",
        "    elif i.isalpha() : feat['letters'] +=1\n",
        "    elif i in '1234567890' : feat['digits'] +=1\n",
        "  k=0\n",
        "  if \"http:/\" in url:\n",
        "    feat[\"http\"] += 1\n",
        "    k=1\n",
        "  if \"https:/\" in url:\n",
        "    feat[\"https\"] += 1\n",
        "    k=1\n",
        "  if \"www.\" in url:\n",
        "    feat[\"www\"] += 1\n",
        "  dir = url.split('/')\n",
        "  if '' in dir:dir.remove('')\n",
        "  feat['directories']=len(dir)-k\n",
        "  return feat"
      ]
    },
    {
      "cell_type": "code",
      "execution_count": 169,
      "metadata": {
        "colab": {
          "base_uri": "https://localhost:8080/",
          "height": 244
        },
        "id": "JXvNdMtkPO9T",
        "outputId": "ecc3a86c-e1c0-484f-8d3a-3d2376f2cf97"
      },
      "outputs": [],
      "source": [
        "def generate_set(Z):\n",
        "  size = len(Z)\n",
        "  x = np.zeros((size,19))\n",
        "  for i in tqdm(range(size)):\n",
        "    url = Z[\"url\"][i]\n",
        "    feat = count_feat(url)\n",
        "    x[i][0],x[i][1],x[i][2],x[i][3] = lenght_url(url),length_host(url),length_path(url),length_first_dir(url)\n",
        "    x[i][4],x[i][5],x[i][6],x[i][7] = length_top_dom(url),has_ip(url),is_url_shortened(url),feat[\"directories\"]\n",
        "    x[i][8],x[i][9],x[i][10],x[i][11] = feat[\"dash\"],feat[\"at\"],feat[\"questions\"],feat[\"percentage\"]\n",
        "    x[i][12],x[i][13],x[i][14],x[i][15] =feat[\"fullstop\"],feat[\"equal\"],feat[\"http\"],feat[\"https\"]\n",
        "    x[i][16],x[i][17],x[i][18] =feat[\"www\"],feat[\"digits\"],feat[\"letters\"]\n",
        "  return x"
      ]
    },
    {
      "cell_type": "code",
      "execution_count": null,
      "metadata": {},
      "outputs": [],
      "source": [
        "x1 = generate_set(df1)\n",
        "x2 = generate_set(df2)\n",
        "\n",
        "df = pd.concat([df1, df2], ignore_index=True)\n",
        "y = df[\"labels\"].to_numpy()\n",
        "\n",
        "x = np.vstack((x1, x2))\n",
        "\n",
        "column_names = ['Url ength', 'Host length', 'Path length',\"First directory length\",\"Top domain length\",\"IP\",\"Shortened\",\"#Directories\",\"#Dashes\",\"#@\",\"#?\",\"#%\",\"#.\",\"#=\",\"#h\"]\n",
        "analysis = pd.DataFrame(x, columns=column_names)"
      ]
    },
    {
      "cell_type": "code",
      "execution_count": 170,
      "metadata": {
        "colab": {
          "base_uri": "https://localhost:8080/"
        },
        "id": "UlnmWNPbPO9U",
        "outputId": "cbb764af-3ebc-4134-999e-9b06a5d025f1"
      },
      "outputs": [
        {
          "name": "stderr",
          "output_type": "stream",
          "text": [
            "100%|██████████| 651191/651191 [00:22<00:00, 29492.99it/s]\n",
            "100%|██████████| 632508/632508 [00:21<00:00, 28757.60it/s]\n"
          ]
        },
        {
          "name": "stdout",
          "output_type": "stream",
          "text": [
            "0.9014990151236938\n"
          ]
        }
      ],
      "source": [
        "x_train, x_test, y_train, y_test = train_test_split(x, y, train_size=0.3, random_state=42)\n",
        "\n",
        "log_model = LogisticRegression(solver='liblinear')\n",
        "log_model.fit(x_train,y_train)\n",
        "\n",
        "log_predictions = log_model.predict(x_test)\n",
        "print(accuracy_score(y_test,log_predictions))"
      ]
    }
  ],
  "metadata": {
    "colab": {
      "provenance": []
    },
    "kernelspec": {
      "display_name": "Python 3",
      "name": "python3"
    },
    "language_info": {
      "codemirror_mode": {
        "name": "ipython",
        "version": 3
      },
      "file_extension": ".py",
      "mimetype": "text/x-python",
      "name": "python",
      "nbconvert_exporter": "python",
      "pygments_lexer": "ipython3",
      "version": "3.10.9"
    }
  },
  "nbformat": 4,
  "nbformat_minor": 0
}
